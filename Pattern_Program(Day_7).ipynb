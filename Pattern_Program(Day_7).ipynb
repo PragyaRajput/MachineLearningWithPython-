{
 "cells": [
  {
   "cell_type": "code",
   "execution_count": null,
   "metadata": {},
   "outputs": [],
   "source": [
    "#Pattern Program"
   ]
  },
  {
   "cell_type": "code",
   "execution_count": 10,
   "metadata": {},
   "outputs": [
    {
     "name": "stdout",
     "output_type": "stream",
     "text": [
      " * * * *\n",
      " * * * *\n",
      " * * * *\n",
      " * * * *\n"
     ]
    }
   ],
   "source": [
    "def pattern(n):\n",
    "    for i in range(1,n+1):\n",
    "        print(\" *\"*n)\n",
    "        \n",
    "pattern(4)"
   ]
  },
  {
   "cell_type": "code",
   "execution_count": 11,
   "metadata": {},
   "outputs": [
    {
     "name": "stdout",
     "output_type": "stream",
     "text": [
      " *\n",
      " * *\n",
      " * * *\n",
      " * * * *\n",
      " * * * * *\n"
     ]
    }
   ],
   "source": [
    "def pattern(n):\n",
    "    for i in range(1,n+1):\n",
    "        print(\" *\"*i)\n",
    "        \n",
    "pattern(5)"
   ]
  },
  {
   "cell_type": "code",
   "execution_count": 23,
   "metadata": {},
   "outputs": [
    {
     "name": "stdout",
     "output_type": "stream",
     "text": [
      " * * * * *\n",
      " * * * *\n",
      " * * *\n",
      " * *\n",
      " *\n"
     ]
    }
   ],
   "source": [
    "def func1(n):\n",
    "    for i in range(n):\n",
    "        print(''*(n-i-1)+' *'*(n-i))\n",
    "func1(5)"
   ]
  },
  {
   "cell_type": "code",
   "execution_count": 32,
   "metadata": {},
   "outputs": [
    {
     "name": "stdout",
     "output_type": "stream",
     "text": [
      " *\n",
      " * *\n",
      " * * *\n",
      " * * * *\n",
      " * * * * *\n",
      " * * * *\n",
      " * * *\n",
      " * *\n",
      " *\n"
     ]
    }
   ],
   "source": [
    "def pattern(n):\n",
    "    for i in range(1,n):\n",
    "        print(\" *\"*i)\n",
    "    for i in range(n):\n",
    "        print(''*(n-i-1)+' *'*(n-i))\n",
    "        \n",
    "pattern(5)"
   ]
  },
  {
   "cell_type": "code",
   "execution_count": 99,
   "metadata": {},
   "outputs": [
    {
     "name": "stdout",
     "output_type": "stream",
     "text": [
      "         *\n",
      "       * *\n",
      "     * * *\n",
      "   * * * *\n",
      " * * * * *\n"
     ]
    }
   ],
   "source": [
    "def pattern(n):\n",
    "    for i in range(1,n+1):\n",
    "        print(' '*(2*(n-i))+\" *\"*i)\n",
    "        \n",
    "pattern(5)"
   ]
  },
  {
   "cell_type": "code",
   "execution_count": 97,
   "metadata": {},
   "outputs": [
    {
     "name": "stdout",
     "output_type": "stream",
     "text": [
      " * * * * *\n",
      "   * * * *\n",
      "     * * *\n",
      "       * *\n",
      "         *\n"
     ]
    }
   ],
   "source": [
    "def pattern(n):\n",
    "    for i in range(1,n+1):\n",
    "        print(' '*(2*(i-1))+\" *\"*(n+1-i))\n",
    "        \n",
    "        \n",
    "pattern(5)"
   ]
  },
  {
   "cell_type": "code",
   "execution_count": 101,
   "metadata": {},
   "outputs": [
    {
     "name": "stdout",
     "output_type": "stream",
     "text": [
      "         *\n",
      "       * *\n",
      "     * * *\n",
      "   * * * *\n",
      " * * * * *\n",
      "   * * * *\n",
      "     * * *\n",
      "       * *\n",
      "         *\n"
     ]
    }
   ],
   "source": [
    "def pattern(n):\n",
    "    for i in range(1,n):\n",
    "        print(' '*(2*(n-i))+\" *\"*i)\n",
    "    for i in range(1,n+1):\n",
    "        print(' '*(2*(i-1))+\" *\"*(n+1-i))\n",
    "        \n",
    "pattern(5)"
   ]
  },
  {
   "cell_type": "code",
   "execution_count": 36,
   "metadata": {
    "scrolled": true
   },
   "outputs": [
    {
     "name": "stdout",
     "output_type": "stream",
     "text": [
      "     *\n",
      "    * *\n",
      "   * * *\n",
      "  * * * *\n",
      " * * * * *\n"
     ]
    }
   ],
   "source": [
    "def func1(n):\n",
    "    for i in range(n):\n",
    "        print(' '*(n-i-1)+' *'*(i+1))\n",
    "func1(5)"
   ]
  },
  {
   "cell_type": "code",
   "execution_count": 82,
   "metadata": {},
   "outputs": [
    {
     "name": "stdout",
     "output_type": "stream",
     "text": [
      "* * * * * \n",
      " * * * * \n",
      "  * * * \n",
      "   * * \n",
      "    * \n"
     ]
    }
   ],
   "source": [
    "def func1(n):\n",
    "    for i in range(n):\n",
    "        print(' '*(i)+'* '*(n-i))\n",
    "func1(5)"
   ]
  },
  {
   "cell_type": "code",
   "execution_count": 81,
   "metadata": {},
   "outputs": [
    {
     "name": "stdout",
     "output_type": "stream",
     "text": [
      "     *\n",
      "    * *\n",
      "   * * *\n",
      "  * * * *\n",
      " * * * * *\n",
      "  * * * *\n",
      "   * * *\n",
      "    * *\n",
      "     *\n"
     ]
    }
   ],
   "source": [
    "def func1(n):\n",
    "    for i in range(n-1):\n",
    "        print(' '*(n-i-1)+' *'*(i+1))\n",
    "    for i in range(n):\n",
    "        print(' '*(i)+' *'*(n-i))\n",
    "    \n",
    "func1(5)"
   ]
  },
  {
   "cell_type": "code",
   "execution_count": null,
   "metadata": {},
   "outputs": [],
   "source": []
  }
 ],
 "metadata": {
  "kernelspec": {
   "display_name": "Python 3",
   "language": "python",
   "name": "python3"
  },
  "language_info": {
   "codemirror_mode": {
    "name": "ipython",
    "version": 3
   },
   "file_extension": ".py",
   "mimetype": "text/x-python",
   "name": "python",
   "nbconvert_exporter": "python",
   "pygments_lexer": "ipython3",
   "version": "3.8.3"
  }
 },
 "nbformat": 4,
 "nbformat_minor": 4
}
